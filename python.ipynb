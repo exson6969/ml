{
 "cells": [
  {
   "cell_type": "code",
   "execution_count": 1,
   "id": "13178858",
   "metadata": {},
   "outputs": [
    {
     "name": "stdout",
     "output_type": "stream",
     "text": [
      "you are old enough to drive!\n"
     ]
    }
   ],
   "source": [
    "is_old = True\n",
    "is_licensed = True\n",
    "\n",
    "if is_old:\n",
    "    print('you are old enough to drive!')\n",
    "else:\n",
    "    print('you are not of age!')"
   ]
  },
  {
   "cell_type": "code",
   "execution_count": 2,
   "id": "f5c1d1e8",
   "metadata": {},
   "outputs": [
    {
     "name": "stdout",
     "output_type": "stream",
     "text": [
      "not allowed to message\n"
     ]
    }
   ],
   "source": [
    "# Tenary operator\n",
    "\n",
    "is_friend = False\n",
    "\n",
    "can_message = \"message allowed\" if is_friend else \"not allowed to message\"\n",
    "\n",
    "print(can_message)"
   ]
  },
  {
   "cell_type": "code",
   "execution_count": null,
   "id": "a1f33a0c",
   "metadata": {},
   "outputs": [],
   "source": []
  }
 ],
 "metadata": {
  "kernelspec": {
   "display_name": "Python 3 (ipykernel)",
   "language": "python",
   "name": "python3"
  },
  "language_info": {
   "codemirror_mode": {
    "name": "ipython",
    "version": 3
   },
   "file_extension": ".py",
   "mimetype": "text/x-python",
   "name": "python",
   "nbconvert_exporter": "python",
   "pygments_lexer": "ipython3",
   "version": "3.9.13"
  }
 },
 "nbformat": 4,
 "nbformat_minor": 5
}
